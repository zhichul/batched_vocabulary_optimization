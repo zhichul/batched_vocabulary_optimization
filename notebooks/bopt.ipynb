{
 "cells": [
  {
   "cell_type": "code",
   "execution_count": 1,
   "id": "050fcd42-90df-4edc-8f97-1faff9dc09f8",
   "metadata": {},
   "outputs": [],
   "source": [
    "from bopt.core.lattice import Tokenizer\n",
    "import math"
   ]
  },
  {
   "cell_type": "code",
   "execution_count": 16,
   "id": "ee1905c8-7f12-4185-9727-2cea333e081e",
   "metadata": {},
   "outputs": [],
   "source": [
    "vocab = [\"[PAD]\", \"h\",\"a\",\"t\",\"e\", \"at\", \"hat\", \"ate\", \"hate\", \"b\", \"ab\"]"
   ]
  },
  {
   "cell_type": "code",
   "execution_count": 17,
   "id": "38a2d999-0765-4149-9cde-9a97948a05d4",
   "metadata": {},
   "outputs": [],
   "source": [
    "weight = {\n",
    "    \"[PAD]\":0.0,\n",
    "    \"h\":0.0,\n",
    "    \"a\":0.0,\n",
    "    \"t\":0.0,\n",
    "    \"e\":math.log(1.0),\n",
    "    \"at\": math.log(2.0), \n",
    "    \"hat\": math.log(3.0), \n",
    "    \"ate\": math.log(4.0), \n",
    "    \"hate\": math.log(5.0),\n",
    "    \"b\": 0.0,\n",
    "    \"ab\": 0.0,\n",
    "}"
   ]
  },
  {
   "cell_type": "code",
   "execution_count": 18,
   "id": "b88a9dd5-0e6c-4a25-a9fc-f636e386bd32",
   "metadata": {},
   "outputs": [],
   "source": [
    "tokenizer = Tokenizer(vocab, weight, continuing_subword_prefix=None)"
   ]
  },
  {
   "cell_type": "code",
   "execution_count": 19,
   "id": "121c8c58-5776-4a7b-9ec3-cf9ddf535112",
   "metadata": {},
   "outputs": [],
   "source": [
    "ts, ms, la, ela, lb, elb, e, ee = tokenizer.forward([\"hat\", \"hate\",  \"ab\", \"at\"])"
   ]
  },
  {
   "cell_type": "code",
   "execution_count": 20,
   "id": "da6f93e5-386f-496b-90cc-e73cd580d094",
   "metadata": {},
   "outputs": [],
   "source": [
    "c, aa, bb, mm_, mm = tokenizer.conditionals(ts,ms,  la, ela, lb, elb)"
   ]
  },
  {
   "cell_type": "code",
   "execution_count": 21,
   "id": "c89a3612-508c-4b2f-9e15-13276f7a2877",
   "metadata": {},
   "outputs": [
    {
     "name": "stdout",
     "output_type": "stream",
     "text": [
      "[   h ->    h] 1.0 [   h ->   ha] 0.0 [   h ->  hat] 0.0 [   h -> hate] 0.0 [   h ->    a] 0.14 [   h ->   at] 0.29 [   h ->  ate] 0.57 [   h ->    t] 0.14 [   h ->   te] 0.0 [   h ->    e] 0.43 \n",
      "[  ha ->    h] 0.0 [  ha ->   ha] 0.0 [  ha ->  hat] 0.0 [  ha -> hate] 0.0 [  ha ->    a] 0.0 [  ha ->   at] 0.0 [  ha ->  ate] 0.0 [  ha ->    t] 0.0 [  ha ->   te] 0.0 [  ha ->    e] 0.0 \n",
      "[ hat ->    h] 0.0 [ hat ->   ha] 0.0 [ hat ->  hat] 1.0 [ hat -> hate] 0.0 [ hat ->    a] 0.0 [ hat ->   at] 0.0 [ hat ->  ate] 0.0 [ hat ->    t] 0.0 [ hat ->   te] 0.0 [ hat ->    e] 1.0 \n",
      "[hate ->    h] 0.0 [hate ->   ha] 0.0 [hate ->  hat] 0.0 [hate -> hate] 1.0 [hate ->    a] 0.0 [hate ->   at] 0.0 [hate ->  ate] 0.0 [hate ->    t] 0.0 [hate ->   te] 0.0 [hate ->    e] 0.0 \n",
      "[   a ->    h] 1.0 [   a ->   ha] 0.0 [   a ->  hat] 0.0 [   a -> hate] 0.0 [   a ->    a] 1.0 [   a ->   at] 0.0 [   a ->  ate] 0.0 [   a ->    t] 1.0 [   a ->   te] 0.0 [   a ->    e] 1.0 \n",
      "[  at ->    h] 1.0 [  at ->   ha] 0.0 [  at ->  hat] 0.0 [  at -> hate] 0.0 [  at ->    a] 0.0 [  at ->   at] 1.0 [  at ->  ate] 0.0 [  at ->    t] 0.0 [  at ->   te] 0.0 [  at ->    e] 1.0 \n",
      "[ ate ->    h] 1.0 [ ate ->   ha] 0.0 [ ate ->  hat] 0.0 [ ate -> hate] 0.0 [ ate ->    a] 0.0 [ ate ->   at] 0.0 [ ate ->  ate] 1.0 [ ate ->    t] 0.0 [ ate ->   te] 0.0 [ ate ->    e] 0.0 \n",
      "[   t ->    h] 1.0 [   t ->   ha] 0.0 [   t ->  hat] 0.0 [   t -> hate] 0.0 [   t ->    a] 1.0 [   t ->   at] 0.0 [   t ->  ate] 0.0 [   t ->    t] 1.0 [   t ->   te] 0.0 [   t ->    e] 1.0 \n",
      "[  te ->    h] 0.0 [  te ->   ha] 0.0 [  te ->  hat] 0.0 [  te -> hate] 0.0 [  te ->    a] 0.0 [  te ->   at] 0.0 [  te ->  ate] 0.0 [  te ->    t] 0.0 [  te ->   te] 0.0 [  te ->    e] 0.0 \n",
      "[   e ->    h] 0.5 [   e ->   ha] 0.0 [   e ->  hat] 0.5 [   e -> hate] 0.0 [   e ->    a] 0.17 [   e ->   at] 0.33 [   e ->  ate] 0.0 [   e ->    t] 0.17 [   e ->   te] 0.0 [   e ->    e] 1.0 \n"
     ]
    }
   ],
   "source": [
    "for i,x in enumerate([\"h\", \"ha\", \"hat\", \"hate\", \"a\", \"at\", \"ate\", \"t\", \"te\", \"e\"]):\n",
    "    for j, y in enumerate([\"h\", \"ha\", \"hat\", \"hate\", \"a\", \"at\", \"ate\", \"t\", \"te\", \"e\"]):\n",
    "        print(f\"[{x:>4} -> {y:>4}] {round(math.exp(c[1,i,j].item()),2)}\", end=\" \")\n",
    "    print()"
   ]
  },
  {
   "cell_type": "code",
   "execution_count": 22,
   "id": "69bf7581-bcbd-4c80-869a-fcbf4e428069",
   "metadata": {},
   "outputs": [
    {
     "data": {
      "text/plain": [
       "tensor([[ 0.0000],\n",
       "        [ 0.0000],\n",
       "        [ 0.1224],\n",
       "        [ 0.1224],\n",
       "        [ 0.0816],\n",
       "        [-0.0204],\n",
       "        [ 0.0000],\n",
       "        [-0.0204],\n",
       "        [ 0.0000],\n",
       "        [ 0.0000],\n",
       "        [ 0.0000]])"
      ]
     },
     "execution_count": 22,
     "metadata": {},
     "output_type": "execute_result"
    }
   ],
   "source": [
    "tokenizer.zero_grad()\n",
    "c.exp()[1][0][4].backward(retain_graph=True)\n",
    "tokenizer.weights.weight.grad"
   ]
  },
  {
   "cell_type": "code",
   "execution_count": 23,
   "id": "e4eb9cac-4fab-41a7-8c9d-e79a646784d6",
   "metadata": {},
   "outputs": [
    {
     "data": {
      "text/plain": [
       "tensor([1.0114, 1.4898, 0.6931, 0.6365], grad_fn=<SqueezeBackward1>)"
      ]
     },
     "execution_count": 23,
     "metadata": {},
     "output_type": "execute_result"
    }
   ],
   "source": [
    "e"
   ]
  },
  {
   "cell_type": "code",
   "execution_count": 10,
   "id": "2fc7147a-7dea-464d-98bb-1618a5e85596",
   "metadata": {},
   "outputs": [
    {
     "name": "stdout",
     "output_type": "stream",
     "text": [
      "1.4897503188505912\n"
     ]
    }
   ],
   "source": [
    "s = sum(- x/15 * math.log(x/15) for x in [1,2,3,4,5])\n",
    "print(s)"
   ]
  },
  {
   "cell_type": "code",
   "execution_count": 28,
   "id": "ddd449bd-7bfb-4ce6-9a4c-57f47b71fc85",
   "metadata": {},
   "outputs": [
    {
     "data": {
      "text/plain": [
       "tensor([[ 0.0000],\n",
       "        [ 0.0000],\n",
       "        [ 0.1540],\n",
       "        [ 0.1540],\n",
       "        [ 0.0000],\n",
       "        [-0.0770],\n",
       "        [ 0.0000],\n",
       "        [ 0.0000],\n",
       "        [ 0.0000],\n",
       "        [ 0.0000],\n",
       "        [ 0.0000]])"
      ]
     },
     "execution_count": 28,
     "metadata": {},
     "output_type": "execute_result"
    }
   ],
   "source": [
    "tokenizer.zero_grad()\n",
    "e[3].backward(retain_graph=True)\n",
    "tokenizer.weights.weight.grad"
   ]
  },
  {
   "cell_type": "code",
   "execution_count": 34,
   "id": "440c068b-6ee3-4c5a-a5d0-013bd65f8138",
   "metadata": {},
   "outputs": [
    {
     "data": {
      "text/plain": [
       "-0.07701635339554949"
      ]
     },
     "execution_count": 34,
     "metadata": {},
     "output_type": "execute_result"
    }
   ],
   "source": [
    "-(1 + math.log(2/3))/9 * (1*3-1*2)  -(1 + math.log(1/3)) / 9 * (0*3 - 1 * 1)"
   ]
  },
  {
   "cell_type": "code",
   "execution_count": 33,
   "id": "ada3f533-bc9e-4615-b9aa-fb57a9e27983",
   "metadata": {},
   "outputs": [
    {
     "data": {
      "text/plain": [
       "0.15403270679109898"
      ]
     },
     "execution_count": 33,
     "metadata": {},
     "output_type": "execute_result"
    }
   ],
   "source": [
    "-(1 + math.log(1/3))/9 * (1*3-1*1)-(1 + math.log(2/3))/9 * (0*3-1*2)"
   ]
  },
  {
   "cell_type": "code",
   "execution_count": null,
   "id": "27ab93b5-f8d0-4829-b1c5-82a285b061fa",
   "metadata": {},
   "outputs": [],
   "source": []
  }
 ],
 "metadata": {
  "kernelspec": {
   "display_name": "Python [conda env:dl22]",
   "language": "python",
   "name": "conda-env-dl22-py"
  },
  "language_info": {
   "codemirror_mode": {
    "name": "ipython",
    "version": 3
   },
   "file_extension": ".py",
   "mimetype": "text/x-python",
   "name": "python",
   "nbconvert_exporter": "python",
   "pygments_lexer": "ipython3",
   "version": "3.9.12"
  }
 },
 "nbformat": 4,
 "nbformat_minor": 5
}
