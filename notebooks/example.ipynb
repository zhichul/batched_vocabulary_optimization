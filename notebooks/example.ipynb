{
 "cells": [
  {
   "cell_type": "code",
   "execution_count": 22,
   "id": "edc444ca",
   "metadata": {},
   "outputs": [],
   "source": [
    "import torch_struct\n",
    "import torch\n",
    "import matplotlib.pyplot as plt\n",
    "import matplotlib\n",
    "import math\n",
    "from collections import OrderedDict\n",
    "from typing import Dict\n",
    "from tqdm.notebook import tqdm"
   ]
  },
  {
   "cell_type": "code",
   "execution_count": 23,
   "id": "ce675838",
   "metadata": {},
   "outputs": [
    {
     "data": {
      "image/png": "[encoded data removed]",
      "text/plain": [
       "<Figure size 432x288 with 1 Axes>"
      ]
     },
     "metadata": {
      "needs_background": "light"
     },
     "output_type": "display_data"
    }
   ],
   "source": [
    "batch, N, C = 3, 7, 2\n",
    "def show_chain(chain):\n",
    "    plt.imshow(chain.detach().sum(-1).transpose(0, 1))\n",
    "\n",
    "# batch, N, z_n, z_n_1\n",
    "log_potentials = torch.rand(batch, N, C, C)\n",
    "dist = torch_struct.LinearChainCRF(log_potentials)\n",
    "show_chain(dist.argmax[0])"
   ]
  },
  {
   "cell_type": "code",
   "execution_count": 24,
   "id": "58017916",
   "metadata": {},
   "outputs": [
    {
     "data": {
      "image/png": "[encoded data removed]",
      "text/plain": [
       "<Figure size 432x288 with 1 Axes>"
      ]
     },
     "metadata": {
      "needs_background": "light"
     },
     "output_type": "display_data"
    }
   ],
   "source": [
    "show_chain(dist.marginals[0])"
   ]
  },
  {
   "cell_type": "code",
   "execution_count": 25,
   "id": "86b3444f",
   "metadata": {},
   "outputs": [
    {
     "data": {
      "image/png": "[encoded data removed]",
      "text/plain": [
       "<Figure size 432x288 with 1 Axes>"
      ]
     },
     "metadata": {
      "needs_background": "light"
     },
     "output_type": "display_data"
    }
   ],
   "source": [
    "event = dist.to_event(torch.tensor([[0, 1, 0, 1, 1, 1, 0, 1]]), 2)\n",
    "show_chain(event[0])"
   ]
  },
  {
   "cell_type": "markdown",
   "id": "658e1d73",
   "metadata": {},
   "source": [
    "## Let's first write some code for converting a tokenization lattice to a linear chain CRF"
   ]
  },
  {
   "cell_type": "code",
   "execution_count": 26,
   "id": "4f921698",
   "metadata": {},
   "outputs": [
    {
     "name": "stdout",
     "output_type": "stream",
     "text": [
      "tensor([[0.0000],\n",
      "        [0.0000],\n",
      "        [0.0000],\n",
      "        [0.0000],\n",
      "        [0.0000],\n",
      "        [0.6931],\n",
      "        [1.0986],\n",
      "        [1.3863],\n",
      "        [1.6094]])\n"
     ]
    }
   ],
   "source": [
    "# first let's define a simple weighted vocabulary\n",
    "vocabulary = OrderedDict([(k,i) for i, k in enumerate([\"[PAD]\", \"h\", \"a\", \"t\", \"e\", \"at\", \"hat\", \"ate\", \"hate\"])])\n",
    "embedding = torch.nn.Embedding(num_embeddings=len(vocabulary), embedding_dim=1, padding_idx=0)\n",
    "weights = {\n",
    "    \"[PAD]\": 1.0,\n",
    "    \"h\": 1.0,\n",
    "    \"a\": 1.0,\n",
    "    \"t\": 1.0,\n",
    "    \"e\": 1.0,\n",
    "    \"at\": 2.0,\n",
    "    \"hat\": 3.0,\n",
    "    \"ate\": 4.0,\n",
    "    \"hate\": 5.0\n",
    "}\n",
    "for unit in weights.keys():\n",
    "    embedding.weight.data[vocabulary[unit]] = math.log(weights[unit])\n",
    "print(embedding.weight.data)"
   ]
  },
  {
   "cell_type": "code",
   "execution_count": 27,
   "id": "a7c84547",
   "metadata": {},
   "outputs": [
    {
     "name": "stdout",
     "output_type": "stream",
     "text": [
      "tensor([[[0., 1., 0., 0., 0., 0.],\n",
      "         [0., 0., 0., 0., 0., 0.],\n",
      "         [0., 0., 0., 0., 0., 0.],\n",
      "         [0., 0., 0., 0., 0., 0.],\n",
      "         [0., 0., 0., 0., 0., 0.],\n",
      "         [0., 0., 0., 0., 0., 0.]],\n",
      "\n",
      "        [[0., 1., 0., 0., 0., 0.],\n",
      "         [0., 0., 1., 0., 0., 0.],\n",
      "         [0., 0., 0., 0., 0., 0.],\n",
      "         [0., 0., 0., 0., 0., 0.],\n",
      "         [0., 0., 0., 0., 0., 0.],\n",
      "         [0., 0., 0., 0., 0., 0.]],\n",
      "\n",
      "        [[0., 1., 0., 0., 0., 0.],\n",
      "         [0., 0., 1., 0., 0., 0.],\n",
      "         [0., 0., 0., 1., 0., 0.],\n",
      "         [0., 0., 0., 0., 0., 0.],\n",
      "         [0., 0., 0., 0., 0., 0.],\n",
      "         [0., 0., 0., 0., 0., 0.]],\n",
      "\n",
      "        [[0., 1., 0., 0., 0., 0.],\n",
      "         [0., 0., 1., 0., 0., 0.],\n",
      "         [0., 0., 0., 1., 0., 0.],\n",
      "         [0., 0., 0., 0., 1., 0.],\n",
      "         [0., 0., 0., 0., 0., 0.],\n",
      "         [0., 0., 0., 0., 0., 0.]],\n",
      "\n",
      "        [[0., 1., 0., 0., 0., 0.],\n",
      "         [0., 0., 1., 0., 0., 0.],\n",
      "         [0., 0., 0., 1., 0., 0.],\n",
      "         [0., 0., 0., 0., 1., 0.],\n",
      "         [0., 0., 0., 0., 0., 1.],\n",
      "         [0., 0., 0., 0., 0., 0.]],\n",
      "\n",
      "        [[0., 0., 0., 0., 0., 0.],\n",
      "         [0., 0., 0., 0., 0., 0.],\n",
      "         [0., 0., 0., 0., 0., 0.],\n",
      "         [0., 0., 0., 0., 0., 0.],\n",
      "         [0., 0., 0., 0., 0., 0.],\n",
      "         [0., 0., 0., 0., 0., 0.]]])\n",
      "tensor([[[0.0000, 0.0000,   -inf,   -inf,   -inf,   -inf],\n",
      "         [  -inf,   -inf,   -inf,   -inf,   -inf,   -inf],\n",
      "         [  -inf,   -inf,   -inf,   -inf,   -inf,   -inf],\n",
      "         [  -inf,   -inf,   -inf,   -inf,   -inf,   -inf],\n",
      "         [  -inf,   -inf,   -inf,   -inf,   -inf,   -inf],\n",
      "         [  -inf,   -inf,   -inf,   -inf,   -inf,   -inf]],\n",
      "\n",
      "        [[0.0000, 0.0000,   -inf,   -inf,   -inf,   -inf],\n",
      "         [  -inf,   -inf, 0.0000,   -inf,   -inf,   -inf],\n",
      "         [  -inf,   -inf,   -inf,   -inf,   -inf,   -inf],\n",
      "         [  -inf,   -inf,   -inf,   -inf,   -inf,   -inf],\n",
      "         [  -inf,   -inf,   -inf,   -inf,   -inf,   -inf],\n",
      "         [  -inf,   -inf,   -inf,   -inf,   -inf,   -inf]],\n",
      "\n",
      "        [[0.0000, 0.0000,   -inf,   -inf,   -inf,   -inf],\n",
      "         [0.6931,   -inf, 0.0000,   -inf,   -inf,   -inf],\n",
      "         [1.0986,   -inf,   -inf, 0.0000,   -inf,   -inf],\n",
      "         [  -inf,   -inf,   -inf,   -inf,   -inf,   -inf],\n",
      "         [  -inf,   -inf,   -inf,   -inf,   -inf,   -inf],\n",
      "         [  -inf,   -inf,   -inf,   -inf,   -inf,   -inf]],\n",
      "\n",
      "        [[0.0000,   -inf,   -inf,   -inf,   -inf,   -inf],\n",
      "         [  -inf,   -inf,   -inf,   -inf,   -inf,   -inf],\n",
      "         [1.3863,   -inf,   -inf,   -inf,   -inf,   -inf],\n",
      "         [1.6094,   -inf,   -inf,   -inf,   -inf,   -inf],\n",
      "         [  -inf,   -inf,   -inf,   -inf,   -inf,   -inf],\n",
      "         [  -inf,   -inf,   -inf,   -inf,   -inf,   -inf]],\n",
      "\n",
      "        [[  -inf,   -inf,   -inf,   -inf,   -inf,   -inf],\n",
      "         [  -inf,   -inf,   -inf,   -inf,   -inf,   -inf],\n",
      "         [  -inf,   -inf,   -inf,   -inf,   -inf,   -inf],\n",
      "         [  -inf,   -inf,   -inf,   -inf,   -inf,   -inf],\n",
      "         [  -inf,   -inf,   -inf,   -inf,   -inf,   -inf],\n",
      "         [  -inf,   -inf,   -inf,   -inf,   -inf,   -inf]],\n",
      "\n",
      "        [[  -inf,   -inf,   -inf,   -inf,   -inf,   -inf],\n",
      "         [  -inf,   -inf,   -inf,   -inf,   -inf,   -inf],\n",
      "         [  -inf,   -inf,   -inf,   -inf,   -inf,   -inf],\n",
      "         [  -inf,   -inf,   -inf,   -inf,   -inf,   -inf],\n",
      "         [  -inf,   -inf,   -inf,   -inf,   -inf,   -inf],\n",
      "         [  -inf,   -inf,   -inf,   -inf,   -inf,   -inf]]],\n",
      "       grad_fn=<AddBackward0>)\n"
     ]
    }
   ],
   "source": [
    "# now let's make the transition matrices\n",
    "def construct_chain(N: int, chunk: str, vocab: Dict[str, int], weights: torch.nn.Embedding, continuing_subword_prefix: str=None):\n",
    "    mask = torch.zeros((N, N, N), dtype=torch.float) # whenever a element of a matrix is from weights, set to 1\n",
    "    ids = torch.zeros((N, N, N), dtype=torch.int)\n",
    "    default_chain_weights = construct_default_chain_weights(N, len(chunk))\n",
    "    for s in range(len(chunk)):\n",
    "        for l in range(len(chunk) - s + 1):\n",
    "            unit = chunk[s:s + l]\n",
    "            unit = unit if continuing_subword_prefix is None or s == 0 else continuing_subword_prefix + unit\n",
    "            if unit in vocab:\n",
    "                mask[s+l-1, l-1, 0] = 1\n",
    "                ids[s+l-1, l-1, 0] = vocab[unit]\n",
    "    log_potentials = mask * weights(ids).squeeze(-1) + torch.log((1-mask) * default_chain_weights + mask)\n",
    "    return log_potentials\n",
    "\n",
    "def construct_default_chain_weights(N: int, L: int):\n",
    "    potentials = torch.zeros((N, N, N), dtype=torch.float) # fill with pad (id=0)\n",
    "    for i in range(L-1):\n",
    "        potentials[i, :i+1, 1:i+2] = torch.eye(i+1)\n",
    "    return potentials\n",
    "\n",
    "print(construct_default_chain_weights(6, 6))\n",
    "print(construct_chain(6, \"hate\", vocabulary, embedding))"
   ]
  },
  {
   "cell_type": "code",
   "execution_count": 28,
   "id": "23bb1981",
   "metadata": {},
   "outputs": [
    {
     "name": "stdout",
     "output_type": "stream",
     "text": [
      "torch.Size([1024, 20, 20, 20])\n",
      "tensor([ 5, 21, 21,  ..., 21, 21, 21], device='cuda:1')\n"
     ]
    }
   ],
   "source": [
    "# now let's use torch-struct to compute log_potentials\n",
    "batch, N, C = 1024, 20, 20\n",
    "def show_chain(chain):\n",
    "    plt.imshow(chain.cpu().detach().sum(-1).transpose(0, 1))\n",
    "# batch, N, z_n, z_n_1\n",
    "log_potentials = construct_chain(N, \"hate\", vocabulary, embedding).unsqueeze(0).repeat(batch,1,1,1).transpose(-1, -2)\n",
    "print(log_potentials.size())\n",
    "lengths = torch.tensor([5] + [N+1] * (batch-1)).to(\"cuda:1\")\n",
    "print(lengths)\n",
    "# for i in tqdm(range(100)):\n",
    "#     dist = torch_struct.LinearChainCRF(log_potentials.to(\"cuda:1\"), lengths=lengths)\n",
    "#     dist.partition[0]\n",
    "#     # show_chain(dist.marginals[0])\n",
    "#     # show_chain(dist.argmax[0])"
   ]
  },
  {
   "cell_type": "code",
   "execution_count": null,
   "id": "d95d6191",
   "metadata": {},
   "outputs": [],
   "source": []
  },
  {
   "cell_type": "markdown",
   "id": "a2598a5d",
   "metadata": {},
   "source": [
    "# Let's try to implement our own version using genbmm"
   ]
  },
  {
   "cell_type": "code",
   "execution_count": 29,
   "id": "768eecf2",
   "metadata": {},
   "outputs": [],
   "source": [
    "import genbmm\n"
   ]
  },
  {
   "cell_type": "code",
   "execution_count": 76,
   "id": "fbc6529f",
   "metadata": {},
   "outputs": [
    {
     "data": {
      "application/vnd.jupyter.widget-view+json": {
       "model_id": "336453e49dfc4d18a1d3470ad0de0b96",
       "version_major": 2,
       "version_minor": 0
      },
      "text/plain": [
       "  0%|          | 0/10 [00:00<?, ?it/s]"
      ]
     },
     "metadata": {},
     "output_type": "display_data"
    },
    {
     "name": "stdout",
     "output_type": "stream",
     "text": [
      "tensor([[ 0.0000e+00,  0.0000e+00,  0.0000e+00,  1.9459e+00],\n",
      "        [-1.0000e+09, -1.0000e+09,  6.9315e-01, -1.0000e+09],\n",
      "        [-1.0000e+09, -1.0000e+09,  1.3863e+00,  1.0986e+00],\n",
      "        [-1.0000e+09, -1.0000e+09, -1.0000e+09,  1.6094e+00]], device='cuda:1',\n",
      "       grad_fn=<SliceBackward0>)\n",
      "tensor([[ 0.0000e+00,  0.0000e+00,  0.0000e+00,  1.0986e+00],\n",
      "        [-1.0000e+09, -1.0000e+09,  6.9315e-01, -1.0000e+09],\n",
      "        [-1.0000e+09, -1.0000e+09, -1.0000e+09,  1.0986e+00],\n",
      "        [-1.0000e+09, -1.0000e+09, -1.0000e+09, -1.0000e+09]], device='cuda:1',\n",
      "       grad_fn=<SliceBackward0>)\n",
      "tensor([[ 0.0000e+00,  0.0000e+00,  0.0000e+00,  0.0000e+00],\n",
      "        [-1.0000e+09, -1.0000e+09, -1.0000e+09, -1.0000e+09],\n",
      "        [-1.0000e+09, -1.0000e+09, -1.0000e+09, -1.0000e+09],\n",
      "        [-1.0000e+09, -1.0000e+09, -1.0000e+09, -1.0000e+09]], device='cuda:1',\n",
      "       grad_fn=<SliceBackward0>)\n",
      "tensor([[ 0.0000e+00,  0.0000e+00,  0.0000e+00,  0.0000e+00],\n",
      "        [-1.0000e+09, -1.0000e+09, -1.0000e+09, -1.0000e+09],\n",
      "        [-1.0000e+09, -1.0000e+09, -1.0000e+09, -1.0000e+09],\n",
      "        [-1.0000e+09, -1.0000e+09, -1.0000e+09, -1.0000e+09]], device='cuda:1',\n",
      "       grad_fn=<SliceBackward0>)\n",
      "torch.Size([1600])\n"
     ]
    }
   ],
   "source": [
    "def construct_chain_mask(N: int, chunk: str, vocab: Dict[str, int], weights: torch.nn.Embedding, continuing_subword_prefix: str=None, reverse=False):\n",
    "    \"\"\"\n",
    "    reverse=False\n",
    "    [ h a  t   e   ]\n",
    "    [   ha at  te  ]\n",
    "    [      hat ate ]\n",
    "    [          hate]\n",
    "    \"\"\"\n",
    "    \"\"\"\n",
    "    reverse=True\n",
    "    first do this\n",
    "    [ h   a   t  e]\n",
    "    [ ha  at  te  ]\n",
    "    [ hat ate     ]\n",
    "    [ hate        ]\n",
    "    then flip left to right\n",
    "    \"\"\"\n",
    "    mask = torch.zeros((N, N), dtype=torch.float) # whenever a element of a matrix is from weights, set to 1\n",
    "    ids = torch.zeros((N, N), dtype=torch.int)\n",
    "    for s in range(len(chunk)):\n",
    "        for l in range(len(chunk) - s + 1):\n",
    "            unit = chunk[s:s + l]\n",
    "            unit = unit if continuing_subword_prefix is None or s == 0 else continuing_subword_prefix + unit\n",
    "            if unit in vocab:\n",
    "                if not reverse:\n",
    "                    mask[l-1, s+l-1] = 1\n",
    "                    ids[l-1, s+l-1] = vocab[unit]\n",
    "                else:\n",
    "                    mask[l-1, len(chunk)-s-1] = 1\n",
    "                    ids[l-1, len(chunk)-s-1] = vocab[unit]\n",
    "                    \n",
    "    return embedding(ids).squeeze(-1), mask\n",
    "\n",
    "\n",
    "def forward(edge_matrix, mask, lengths):\n",
    "    edge_log_potentials = torch.ones_like(edge_matrix) * (-1e9)\n",
    "    edge_log_potentials[mask.to(torch.bool)] = 0.0\n",
    "    edge_log_potentials += edge_matrix\n",
    "    \n",
    "    log_alphas = [mask.new_zeros(edge_matrix.size(0))]\n",
    "    n = edge_matrix.size(1)\n",
    "    bm = mask.to(torch.bool)\n",
    "    for i in range(n):\n",
    "        maski = (bm & torch.diag_embed(mask.new_ones(n-i, dtype=torch.bool), offset=i).unsqueeze(0)).to(torch.float)\n",
    "        update = log_alphas[-1][:,None, None] * maski\n",
    "        edge_log_potentials = edge_log_potentials +  update\n",
    "        log_alphas.append(torch.logsumexp(edge_log_potentials[:, :,i], -1))\n",
    "    return torch.gather(torch.stack(log_alphas), 0, lengths.unsqueeze(0)), edge_log_potentials #[log_alphas[l][i] for i, l in enumerate(lengths)]\n",
    "\n",
    "\n",
    "N=20\n",
    "b = 10\n",
    "gmask = torch.zeros(N,N,N, dtype=torch.float).to(\"cuda:1\")\n",
    "mmask = torch.zeros(N,N,N, dtype=torch.float).to(\"cuda:1\")\n",
    "triu_ones = torch.triu(torch.ones(N,N, dtype=torch.float).to(\"cuda:1\"), diagonal=0)\n",
    "for i in range(N):\n",
    "    gmask[i,:N-i,i:N] = triu_ones[:N-i, :N-i]\n",
    "    mmask[i,:N-i,i:N] = triu_ones[:N-i, :N-i]\n",
    "    gmask[i,0,:i] = 1\n",
    "    # gmask[i,:i,:i] = triu_ones[:i, :i]\n",
    "# print(gmask)\n",
    "for i in tqdm(range(10)):\n",
    "    edge_matrix_r, mask_r = construct_chain_mask(N, \"hate\", vocabulary, embedding, reverse=True)\n",
    "    edge_matrix_r = edge_matrix_r.unsqueeze(0).repeat(b, 1, 1).to(\"cuda:1\")\n",
    "    mask_r = mask_r.unsqueeze(0).repeat(b, 1, 1).to(\"cuda:1\")\n",
    "    edge_matrix_r = (edge_matrix_r.unsqueeze(0) * mmask.unsqueeze(1)).reshape(N * b, N, N)\n",
    "    mask_r = (mask_r.unsqueeze(0) * gmask.unsqueeze(1)).reshape(N * b, N, N)\n",
    "    lengths_r= torch.ones(N * b, dtype=torch.long).to(\"cuda:1\") * 4\n",
    "    Zbs, betas = forward(edge_matrix_r, mask_r, lengths_r)\n",
    "    if i == 0:\n",
    "        # print(betas[0])\n",
    "        print(eps[0][:4,:4])\n",
    "        print(eps[1][:4,:4])\n",
    "        print(eps[2][:4,:4])\n",
    "        print(eps[3][:4,:4])\n",
    "    edge_matrix, mask = construct_chain_mask(N, \"hate\", vocabulary, embedding)\n",
    "    edge_matrix = edge_matrix.unsqueeze(0).repeat(b, 1, 1).to(\"cuda:1\")\n",
    "    mask = mask.unsqueeze(0).repeat(b, 1, 1).to(\"cuda:1\")\n",
    "    lengths= torch.ones(b, dtype=torch.long).to(\"cuda:1\") * 4\n",
    "    Za, alpha = forward(edge_matrix, mask, lengths)\n",
    "    alpha = torch.masked_select(alpha, mask.to(torch.bool))\n",
    "    if i == 0:\n",
    "        betas = torch.masked_select(betas, mask.to(torch.bool).repeat_interleave(N, dim=0))\n",
    "        print(betas.size())\n",
    "    \n",
    "# del alphas\n",
    "# del betas"
   ]
  },
  {
   "cell_type": "code",
   "execution_count": 31,
   "id": "a0a97d72-bd60-41a3-918d-4a50236a0514",
   "metadata": {},
   "outputs": [
    {
     "ename": "NameError",
     "evalue": "name 'o' is not defined",
     "output_type": "error",
     "traceback": [
      "\u001b[0;31m---------------------------------------------------------------------------\u001b[0m",
      "\u001b[0;31mNameError\u001b[0m                                 Traceback (most recent call last)",
      "Input \u001b[0;32mIn [31]\u001b[0m, in \u001b[0;36m<cell line: 6>\u001b[0;34m()\u001b[0m\n\u001b[1;32m      4\u001b[0m s\u001b[38;5;241m.\u001b[39mrequires_grad_(\u001b[38;5;28;01mTrue\u001b[39;00m)\n\u001b[1;32m      5\u001b[0m mask \u001b[38;5;241m=\u001b[39m torch\u001b[38;5;241m.\u001b[39mdiag_embed(torch\u001b[38;5;241m.\u001b[39mtensor([\u001b[38;5;241m1\u001b[39m,\u001b[38;5;241m1\u001b[39m,\u001b[38;5;241m1\u001b[39m], dtype\u001b[38;5;241m=\u001b[39mtorch\u001b[38;5;241m.\u001b[39mfloat), offset\u001b[38;5;241m=\u001b[39m\u001b[38;5;241m1\u001b[39m)\n\u001b[0;32m----> 6\u001b[0m \u001b[43mo\u001b[49m\u001b[38;5;241m.\u001b[39msum()\u001b[38;5;241m.\u001b[39mbackward()\n\u001b[1;32m      7\u001b[0m \u001b[38;5;28mprint\u001b[39m(t\u001b[38;5;241m.\u001b[39mgrad)\n\u001b[1;32m      8\u001b[0m \u001b[38;5;28mprint\u001b[39m(s\u001b[38;5;241m.\u001b[39mgrad)\n",
      "\u001b[0;31mNameError\u001b[0m: name 'o' is not defined"
     ]
    }
   ],
   "source": [
    "t = torch.diag_embed(torch.tensor([1,2,3], dtype=torch.float), offset=1)\n",
    "s = torch.diag_embed(torch.tensor([3,4,5], dtype=torch.float), offset=1)\n",
    "t.requires_grad_(True)\n",
    "s.requires_grad_(True)\n",
    "mask = torch.diag_embed(torch.tensor([1,1,1], dtype=torch.float), offset=1)\n",
    "o.sum().backward()\n",
    "print(t.grad)\n",
    "print(s.grad)"
   ]
  },
  {
   "cell_type": "code",
   "execution_count": null,
   "id": "35c109bd-0cff-48ff-831d-a0dc42d558db",
   "metadata": {},
   "outputs": [],
   "source": [
    "math.e ** 1.7918"
   ]
  },
  {
   "cell_type": "code",
   "execution_count": null,
   "id": "52ec5f2f-4cc6-4982-8ff5-e12213fe953b",
   "metadata": {},
   "outputs": [],
   "source": []
  }
 ],
 "metadata": {
  "kernelspec": {
   "display_name": "Python [conda env:dl22]",
   "language": "python",
   "name": "conda-env-dl22-py"
  },
  "language_info": {
   "codemirror_mode": {
    "name": "ipython",
    "version": 3
   },
   "file_extension": ".py",
   "mimetype": "text/x-python",
   "name": "python",
   "nbconvert_exporter": "python",
   "pygments_lexer": "ipython3",
   "version": "3.9.12"
  }
 },
 "nbformat": 4,
 "nbformat_minor": 5
}
