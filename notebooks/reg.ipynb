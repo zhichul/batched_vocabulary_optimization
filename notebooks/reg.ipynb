{
 "cells": [
  {
   "cell_type": "markdown",
   "id": "8bf6d65e",
   "metadata": {},
   "source": [
    "How much variance does the entropy regularizer have?"
   ]
  },
  {
   "cell_type": "code",
   "execution_count": 1,
   "id": "786c84d3",
   "metadata": {},
   "outputs": [],
   "source": [
    "import numpy as np\n",
    "import torch\n",
    "from tqdm.notebook import tqdm\n",
    "import math"
   ]
  },
  {
   "cell_type": "code",
   "execution_count": 2,
   "id": "38edc7d0",
   "metadata": {},
   "outputs": [],
   "source": [
    "N = 10\n",
    "runs = 10\n",
    "eps = 1e-4\n",
    "param = torch.nn.Parameter(torch.tensor([0.0] * N,dtype=torch.float))\n",
    "variance = 3\n",
    "problem = torch.tensor([1.,2.,3.,0,0,0,0,0,0,0], dtype=torch.float)\n",
    "problem = problem / problem.sum()\n",
    "lr = 0.01\n",
    "entropic = 0.3\n",
    "def forever():\n",
    "    while True:\n",
    "        yield None"
   ]
  },
  {
   "cell_type": "code",
   "execution_count": 3,
   "id": "408437ec",
   "metadata": {},
   "outputs": [
    {
     "data": {
      "application/vnd.jupyter.widget-view+json": {
       "model_id": "13f5c483cf2940509de31cf72ed8b248",
       "version_major": 2,
       "version_minor": 0
      },
      "text/plain": [
       "HBox(children=(FloatProgress(value=0.0, max=10.0), HTML(value='')))"
      ]
     },
     "metadata": {},
     "output_type": "display_data"
    },
    {
     "name": "stdout",
     "output_type": "stream",
     "text": [
      "tensor([5.8729, 4.0028, 0.7207, 5.8576, 5.4465, 0.3452, 1.9188, 4.7169, 0.3531,\n",
      "        4.5309])\n"
     ]
    },
    {
     "data": {
      "application/vnd.jupyter.widget-view+json": {
       "model_id": "02ca71608fa14a90a9b1f351e2a2f7fb",
       "version_major": 2,
       "version_minor": 0
      },
      "text/plain": [
       "HBox(children=(FloatProgress(value=1.0, bar_style='info', layout=Layout(width='20px'), max=1.0), HTML(value=''…"
      ]
     },
     "metadata": {},
     "output_type": "display_data"
    },
    {
     "name": "stdout",
     "output_type": "stream",
     "text": [
      "\n",
      "tensor([3.9043, 2.8377, 5.7540, 2.8823, 5.9682, 3.6181, 2.9625, 4.5385, 4.4706,\n",
      "        1.1990])\n"
     ]
    },
    {
     "data": {
      "application/vnd.jupyter.widget-view+json": {
       "model_id": "66db31e7f6f24d529e1f4a93cc5c0ec1",
       "version_major": 2,
       "version_minor": 0
      },
      "text/plain": [
       "HBox(children=(FloatProgress(value=1.0, bar_style='info', layout=Layout(width='20px'), max=1.0), HTML(value=''…"
      ]
     },
     "metadata": {},
     "output_type": "display_data"
    },
    {
     "name": "stdout",
     "output_type": "stream",
     "text": [
      "\n",
      "tensor([2.5010, 0.5972, 1.9245, 4.5400, 2.2972, 1.3562, 0.1854, 4.0659, 3.4091,\n",
      "        1.0534])\n"
     ]
    },
    {
     "data": {
      "application/vnd.jupyter.widget-view+json": {
       "model_id": "deeeadb069bb4f1dbd15e40844151f49",
       "version_major": 2,
       "version_minor": 0
      },
      "text/plain": [
       "HBox(children=(FloatProgress(value=1.0, bar_style='info', layout=Layout(width='20px'), max=1.0), HTML(value=''…"
      ]
     },
     "metadata": {},
     "output_type": "display_data"
    },
    {
     "name": "stdout",
     "output_type": "stream",
     "text": [
      "\n",
      "tensor([2.8299, 3.8988, 5.1230, 1.6427, 5.2338, 4.4068, 5.2003, 0.5399, 0.7090,\n",
      "        1.5709])\n"
     ]
    },
    {
     "data": {
      "application/vnd.jupyter.widget-view+json": {
       "model_id": "02155808be054cb0b3519b89d54a12b9",
       "version_major": 2,
       "version_minor": 0
      },
      "text/plain": [
       "HBox(children=(FloatProgress(value=1.0, bar_style='info', layout=Layout(width='20px'), max=1.0), HTML(value=''…"
      ]
     },
     "metadata": {},
     "output_type": "display_data"
    },
    {
     "name": "stdout",
     "output_type": "stream",
     "text": [
      "\n",
      "tensor([2.0876, 2.6877, 5.1922, 4.0891, 3.8151, 1.0459, 3.1647, 1.2700, 3.4483,\n",
      "        2.4628])\n"
     ]
    },
    {
     "data": {
      "application/vnd.jupyter.widget-view+json": {
       "model_id": "4b4f7ba7a0fc4941abcfef58ef1a2035",
       "version_major": 2,
       "version_minor": 0
      },
      "text/plain": [
       "HBox(children=(FloatProgress(value=1.0, bar_style='info', layout=Layout(width='20px'), max=1.0), HTML(value=''…"
      ]
     },
     "metadata": {},
     "output_type": "display_data"
    },
    {
     "name": "stdout",
     "output_type": "stream",
     "text": [
      "\n",
      "tensor([2.8415, 3.9781, 0.7341, 5.7719, 5.1381, 1.5939, 0.2874, 0.4330, 0.3033,\n",
      "        4.5097])\n"
     ]
    },
    {
     "data": {
      "application/vnd.jupyter.widget-view+json": {
       "model_id": "6b5030610f554e858e3f5735dd1bae11",
       "version_major": 2,
       "version_minor": 0
      },
      "text/plain": [
       "HBox(children=(FloatProgress(value=1.0, bar_style='info', layout=Layout(width='20px'), max=1.0), HTML(value=''…"
      ]
     },
     "metadata": {},
     "output_type": "display_data"
    },
    {
     "name": "stdout",
     "output_type": "stream",
     "text": [
      "\n",
      "tensor([5.9933, 1.3118, 3.6527, 3.2802, 2.9033, 3.5107, 0.5244, 0.6269, 0.9763,\n",
      "        3.8202])\n"
     ]
    },
    {
     "data": {
      "application/vnd.jupyter.widget-view+json": {
       "model_id": "fdd43f29f4864b6db342f1e7ad8bd017",
       "version_major": 2,
       "version_minor": 0
      },
      "text/plain": [
       "HBox(children=(FloatProgress(value=1.0, bar_style='info', layout=Layout(width='20px'), max=1.0), HTML(value=''…"
      ]
     },
     "metadata": {},
     "output_type": "display_data"
    },
    {
     "name": "stdout",
     "output_type": "stream",
     "text": [
      "\n",
      "tensor([0.8003, 0.9004, 3.7816, 2.0768, 5.5464, 4.5662, 1.0318, 3.7464, 3.3578,\n",
      "        3.3983])\n"
     ]
    },
    {
     "data": {
      "application/vnd.jupyter.widget-view+json": {
       "model_id": "39a9aaa4383d4124b3e4b77cbcac9532",
       "version_major": 2,
       "version_minor": 0
      },
      "text/plain": [
       "HBox(children=(FloatProgress(value=1.0, bar_style='info', layout=Layout(width='20px'), max=1.0), HTML(value=''…"
      ]
     },
     "metadata": {},
     "output_type": "display_data"
    },
    {
     "name": "stdout",
     "output_type": "stream",
     "text": [
      "\n",
      "tensor([3.1816, 4.2381, 3.9585, 5.3931, 5.7587, 2.9993, 2.7757, 5.3566, 1.8076,\n",
      "        3.1623])\n"
     ]
    },
    {
     "data": {
      "application/vnd.jupyter.widget-view+json": {
       "model_id": "3c0cdcc7f32a4e2ab655da69392923c3",
       "version_major": 2,
       "version_minor": 0
      },
      "text/plain": [
       "HBox(children=(FloatProgress(value=1.0, bar_style='info', layout=Layout(width='20px'), max=1.0), HTML(value=''…"
      ]
     },
     "metadata": {},
     "output_type": "display_data"
    },
    {
     "name": "stdout",
     "output_type": "stream",
     "text": [
      "\n",
      "tensor([2.4634, 3.9788, 0.1450, 2.4581, 1.3343, 0.5912, 4.2822, 1.0977, 3.7099,\n",
      "        3.9010])\n"
     ]
    },
    {
     "data": {
      "application/vnd.jupyter.widget-view+json": {
       "model_id": "fbbbc56a149b48cda13f97b83bdc1bf6",
       "version_major": 2,
       "version_minor": 0
      },
      "text/plain": [
       "HBox(children=(FloatProgress(value=1.0, bar_style='info', layout=Layout(width='20px'), max=1.0), HTML(value=''…"
      ]
     },
     "metadata": {},
     "output_type": "display_data"
    },
    {
     "name": "stdout",
     "output_type": "stream",
     "text": [
      "\n",
      "\n"
     ]
    }
   ],
   "source": [
    "for i in tqdm(range(runs)):\n",
    "    init = torch.tensor(np.random.random((N,)) * math.sqrt(12 * variance),dtype=torch.float)\n",
    "    print(init)\n",
    "    param.data = init\n",
    "    loss = grad = math.inf\n",
    "    bar = tqdm(enumerate(forever()))\n",
    "    for i, _ in bar:\n",
    "        if grad < eps or i > 100000:\n",
    "            break\n",
    "        loss = ((param.log_softmax(-1).exp() - problem) ** 2).sum() + (-entropic * (param.log_softmax(-1) * param.softmax(-1)).sum())\n",
    "        loss.backward()\n",
    "        param.data -= lr * param.grad\n",
    "        grad = param.grad.norm()\n",
    "        param.grad = None\n",
    "        bar.desc = f\"g={grad.item():>.4f} l={loss.item():>.4f} {param.log_softmax(-1).exp()}\"\n"
   ]
  },
  {
   "cell_type": "code",
   "execution_count": null,
   "id": "d9cf57d4",
   "metadata": {},
   "outputs": [],
   "source": []
  },
  {
   "cell_type": "code",
   "execution_count": null,
   "id": "3814de4a",
   "metadata": {},
   "outputs": [],
   "source": []
  }
 ],
 "metadata": {
  "kernelspec": {
   "display_name": "Python 3",
   "language": "python",
   "name": "python3"
  },
  "language_info": {
   "codemirror_mode": {
    "name": "ipython",
    "version": 3
   },
   "file_extension": ".py",
   "mimetype": "text/x-python",
   "name": "python",
   "nbconvert_exporter": "python",
   "pygments_lexer": "ipython3",
   "version": "3.9.2"
  }
 },
 "nbformat": 4,
 "nbformat_minor": 5
}
